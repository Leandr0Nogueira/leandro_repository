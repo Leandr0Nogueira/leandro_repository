{
 "cells": [
  {
   "cell_type": "markdown",
   "metadata": {},
   "source": [
    "# Bubble Sort - O(n²)"
   ]
  },
  {
   "cell_type": "markdown",
   "metadata": {},
   "source": [
    "Compara o primeiro índice do vetor e o seguinte, caso o primeiro seja maior que o segundo, inverte, segue fazendo isso até que na primeira passada pelo vetor, o maior número esteja na última posição, na segunda interação, o segundo maior número está na penúltima posição e por aí vai."
   ]
  },
  {
   "cell_type": "markdown",
   "metadata": {},
   "source": [
    "# Insertion Sort - O(n²)"
   ]
  },
  {
   "cell_type": "markdown",
   "metadata": {},
   "source": [
    "Começa da esquerda, vai ordenando a parte esquerda do vetor, conforme avança no vetor, analisa se o próximo elemento é menor que o último da parte ordenada, caso for menor, <strong>insere</strong> esse elemento na sua posição correta e segue avançando no vetor até que a parte ordenada da esquerda seja todo o vetor"
   ]
  },
  {
   "cell_type": "markdown",
   "metadata": {},
   "source": [
    "# Selection Sort - O(n²)"
   ]
  },
  {
   "cell_type": "markdown",
   "metadata": {},
   "source": [
    "Começa definindo o primeiro elemento como o menor, depois busca pelo vetor o menor número e coloca na primeira posição que haviamos definido como menor, depois avança para próxima posição definindo como menor e buscando o verdadeiro menor elemento do vetor, vai <strong>selecionando</strong> o menor elemento e colocando na parte ordenada do vetor até ordenar tudo"
   ]
  },
  {
   "cell_type": "markdown",
   "metadata": {},
   "source": [
    "# Merge Sorte - O(n log n)"
   ]
  },
  {
   "cell_type": "markdown",
   "metadata": {},
   "source": [
    "Dividimos o vetor na metade, depois essas metades em metades menores até que sobre elementos individuais, depois vamos juntando novamente os elementos para formarem vetores pequenos ordenados até que aconteça a ordenação total do vetor"
   ]
  },
  {
   "cell_type": "markdown",
   "metadata": {},
   "source": [
    "# Quick Sort - Pior Caso: O(n²) | Caso Médio: O(n log n)"
   ]
  },
  {
   "cell_type": "markdown",
   "metadata": {},
   "source": [
    "Começamos escolhendo um pivô, geralmente no meio do vetor, e o colocamos na última posição do vetor. Agora iremos procurar da esquerda para direita o primeiro número que aparecer maior que o pivô. Depois vamos procurar da direita para esquerda o primeiro número que aparecer menor que o pivô, agora temos que inverter o elemento maior encontrado com o menor e depois repete-se o processo até que o índice do maior número seja maior que o índice do menor número. Depois de verificar que o índice do maior número é maior que o do menor, troca o pivô de posição com o número maior. Agora todos os números a direita do pivô são menores que ele e todos a esquerda são maiores. Repete-se o processo para o vetor formado à esquerda e à direita do pivô até que o vetor esteja todo ordenado."
   ]
  },
  {
   "cell_type": "markdown",
   "metadata": {},
   "source": []
  }
 ],
 "metadata": {
  "language_info": {
   "name": "python"
  }
 },
 "nbformat": 4,
 "nbformat_minor": 2
}
